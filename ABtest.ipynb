{
 "cells": [
  {
   "cell_type": "markdown",
   "metadata": {
    "slideshow": {
     "slide_type": "notes"
    }
   },
   "source": [
    "### *Задание* \n",
    "Интернет-магазин «Фитнес-мания», занимающейся продажей спортивных товаров, хочет увеличить количество клиентов, которые переходят на сайт через email-рассылки. Для этого команда планирует провести A/B-тестирование.\n"
   ]
  },
  {
   "cell_type": "markdown",
   "metadata": {
    "slideshow": {
     "slide_type": "slide"
    }
   },
   "source": [
    "#### *Задание 1.*\n",
    "Перед вами представлен набор гипотез со средними оценками от членов команды. <br> А/В-тестирование продакт планирует запустить в ближайшую неделю. Проанализируйте таблицу и выберете гипотезу, <br> которую следуют взять в работу в первую очередь. Объясните свой выбор гипотезы."
   ]
  },
  {
   "cell_type": "markdown",
   "metadata": {},
   "source": [
    "**Гипотеза 1:**  \n",
    "Использовать более яркие и привлекательные заголовки в email-рассылках,  \n",
    "чтобы привлечь внимание клиентов и заставить их нажать на ссылку   \n",
    "Потенциальный эффект 4  \n",
    "Важность для будущих задач бизнеса 2  \n",
    "Уровень уверенности в правильности гипотезы 4  \n",
    "Простота реализации 8  \n",
    "Итог: 18"
   ]
  },
  {
   "cell_type": "markdown",
   "metadata": {},
   "source": [
    "**Гипотеза 2:**  \n",
    "Улучшить мобильную версию сайта, чтобы клиенты могли легко переходить на сайт через email-рассылки с мобильных устройств.   \n",
    "Потенциальный эффект 8  \n",
    "Важность для будущих задач бизнеса 8  \n",
    "Уровень уверенности в правильности гипотезы 6  \n",
    "Простота реализации 2   \n",
    "Итог: 24"
   ]
  },
  {
   "cell_type": "markdown",
   "metadata": {},
   "source": [
    "**Гипотеза 3:**  \n",
    "Разработать более персонализированные email-рассылки, учитывая интересы и предпочтения каждого клиента,  \n",
    "чтобы они чувствовали себя более привлеченными к переходу на сайт.   \n",
    "Потенциальный эффект 5  \n",
    "Важность для будущих задач бизнеса 6  \n",
    "Уровень уверенности в правильности гипотезы 4  \n",
    "Простота реализации 5  \n",
    "Итог: 20"
   ]
  },
  {
   "cell_type": "markdown",
   "metadata": {},
   "source": [
    "**Гипотеза 4:**  \n",
    " Сделать email-рассылки более интерактивными, например, добавить опросы или кнопки «добавить в корзину»,  \n",
    "чтобы стимулировать клиентов переходить на сайт и совершать покупки    \n",
    "Потенциальный эффект 2  \n",
    "Важность для будущих задач бизнеса 6  \n",
    "Уровень уверенности в правильности гипотезы 4  \n",
    "Простота реализации 7  \n",
    "Итог: 19"
   ]
  },
  {
   "cell_type": "markdown",
   "metadata": {},
   "source": [
    "Для того чтобы выбрать приоритетную гипотезу на основе данных оценок, воспользуемся методом ICE Score.  \n",
    "Произведем два рассчета для следующих параметров таблицы: в первом случае воспользуемся только последними тремя критериями, так как критерий *потенциальный эффект*  \n",
    "уже несет в себе некоторую оценочную суть для успешности гипотезы, вернемся к его рассмотрению позднее.  \n",
    "**Итак**, значения ICE для гипотез:   \n",
    "1 гипотеза:  (2 + 4 + 8)/3 = 4.67  \n",
    "2 гипотеза: 5.34   \n",
    "3 гипотеза: 5  \n",
    "4 **гипотеза: 5.6**  \n",
    "Анализируя полученные значения, можно сказать что приоритетной в данном случае будет выступать *Гипотеза 4*, но вернемся к рассмотрению первого  критерия и посчитаем ICE с его использованием:   \n",
    "1 гипотеза: 4.5  \n",
    "2 **гипотеза: 6**  \n",
    "3 гипотеза: 5  \n",
    "4 гипотеза: 4.75 "
   ]
  },
  {
   "cell_type": "markdown",
   "metadata": {},
   "source": [
    "При рассчете с использованием критерия *потенциальный эффект* - приоритетной будет являться *гипотеза 2* и *гипотеза 3*.   \n",
    "Значение для третьей гипотезы никак не изменились, а для второй гипотезы - выросли. Это говорит что *гипотеза 2* будет являться более приоритетной, нежели   \n",
    "остальные, несмотря на низкий индекс реализации.  \n",
    "\n",
    "Второй по приоритету будет являться *гипотеза 3*, которая по прогнозам должна дать высокую эффективность при средних трудозатратах.  \n",
    "  \n",
    " В первую очередь я бы предложила взять в рассмотрение *гипотезу 2*, так как она внесет большой вклад в дальнейшее развитие проекта, а также даст   \n",
    " высокую эффективность. Если требуется срочность и нет возможности выделить больше времени на реализацию данной гипотезы, то я бы рекомендовала\n",
    " взять в рассмотрение *гипотезу 3*."
   ]
  },
  {
   "cell_type": "markdown",
   "metadata": {},
   "source": [
    "Задание 2. Определите метрики эксперимента: ключевую и смежную. Поясните, почему вы выбрали именно эти метрики.  \n",
    "**Ключевая метрика**: Конверсия мобильных пользователей  \n",
    "Главная цель — увеличить количество клиентов, совершающих целевые действия на сайте после перехода по ссылке из email-рассылки с мобильного устройства.  (покупка, регистрация, заполнение формы и др.)\n",
    "Эффект - Улучшение мобильной версии сайта должно напрямую влиять на удобство использования и, соответственно,   на вероятность того, что пользователь выполнит целевое действие.\n",
    "Также конверсия легко измерима и четко показывает влияние изменений на сайт и пользователя.\n",
    "**Смежные метрики**  \n",
    "*CTR из email-рассылки* позволяет понять эффективность email-кампаний и интерес пользователей к переходу на сайт.  \n",
    "*Время на сайте и количество повторных просмотров страниц* дают понимание вовлеченности пользователей и качества их взаимодействия с сайтом через рассылку."
   ]
  },
  {
   "cell_type": "code",
   "execution_count": 2,
   "metadata": {},
   "outputs": [],
   "source": [
    "import pandas as pd\n",
    "import numpy as np\n",
    "import matplotlib as mpl\n",
    "import matplotlib.pyplot as plt\n",
    "import seaborn as sns\n",
    "from math import ceil"
   ]
  },
  {
   "cell_type": "code",
   "execution_count": 3,
   "metadata": {},
   "outputs": [
    {
     "data": {
      "text/html": [
       "<div>\n",
       "<style scoped>\n",
       "    .dataframe tbody tr th:only-of-type {\n",
       "        vertical-align: middle;\n",
       "    }\n",
       "\n",
       "    .dataframe tbody tr th {\n",
       "        vertical-align: top;\n",
       "    }\n",
       "\n",
       "    .dataframe thead th {\n",
       "        text-align: right;\n",
       "    }\n",
       "</style>\n",
       "<table border=\"1\" class=\"dataframe\">\n",
       "  <thead>\n",
       "    <tr style=\"text-align: right;\">\n",
       "      <th></th>\n",
       "      <th>date</th>\n",
       "      <th>user_id</th>\n",
       "    </tr>\n",
       "  </thead>\n",
       "  <tbody>\n",
       "    <tr>\n",
       "      <th>0</th>\n",
       "      <td>01.01.2023</td>\n",
       "      <td>101240</td>\n",
       "    </tr>\n",
       "    <tr>\n",
       "      <th>1</th>\n",
       "      <td>01.01.2023</td>\n",
       "      <td>101241</td>\n",
       "    </tr>\n",
       "    <tr>\n",
       "      <th>2</th>\n",
       "      <td>01.01.2023</td>\n",
       "      <td>101242</td>\n",
       "    </tr>\n",
       "    <tr>\n",
       "      <th>3</th>\n",
       "      <td>01.01.2023</td>\n",
       "      <td>101243</td>\n",
       "    </tr>\n",
       "    <tr>\n",
       "      <th>4</th>\n",
       "      <td>01.01.2023</td>\n",
       "      <td>101244</td>\n",
       "    </tr>\n",
       "    <tr>\n",
       "      <th>...</th>\n",
       "      <td>...</td>\n",
       "      <td>...</td>\n",
       "    </tr>\n",
       "    <tr>\n",
       "      <th>485</th>\n",
       "      <td>28.02.2023</td>\n",
       "      <td>106053</td>\n",
       "    </tr>\n",
       "    <tr>\n",
       "      <th>486</th>\n",
       "      <td>28.02.2023</td>\n",
       "      <td>106054</td>\n",
       "    </tr>\n",
       "    <tr>\n",
       "      <th>487</th>\n",
       "      <td>28.02.2023</td>\n",
       "      <td>106055</td>\n",
       "    </tr>\n",
       "    <tr>\n",
       "      <th>488</th>\n",
       "      <td>28.02.2023</td>\n",
       "      <td>106056</td>\n",
       "    </tr>\n",
       "    <tr>\n",
       "      <th>489</th>\n",
       "      <td>28.02.2023</td>\n",
       "      <td>106057</td>\n",
       "    </tr>\n",
       "  </tbody>\n",
       "</table>\n",
       "<p>490 rows × 2 columns</p>\n",
       "</div>"
      ],
      "text/plain": [
       "           date  user_id\n",
       "0    01.01.2023   101240\n",
       "1    01.01.2023   101241\n",
       "2    01.01.2023   101242\n",
       "3    01.01.2023   101243\n",
       "4    01.01.2023   101244\n",
       "..          ...      ...\n",
       "485  28.02.2023   106053\n",
       "486  28.02.2023   106054\n",
       "487  28.02.2023   106055\n",
       "488  28.02.2023   106056\n",
       "489  28.02.2023   106057\n",
       "\n",
       "[490 rows x 2 columns]"
      ]
     },
     "execution_count": 3,
     "metadata": {},
     "output_type": "execute_result"
    }
   ],
   "source": [
    "df_clicked = pd.read_csv('clicked.csv', sep=',')\n",
    "df_clicked"
   ]
  },
  {
   "cell_type": "code",
   "execution_count": 4,
   "metadata": {},
   "outputs": [
    {
     "data": {
      "text/html": [
       "<div>\n",
       "<style scoped>\n",
       "    .dataframe tbody tr th:only-of-type {\n",
       "        vertical-align: middle;\n",
       "    }\n",
       "\n",
       "    .dataframe tbody tr th {\n",
       "        vertical-align: top;\n",
       "    }\n",
       "\n",
       "    .dataframe thead th {\n",
       "        text-align: right;\n",
       "    }\n",
       "</style>\n",
       "<table border=\"1\" class=\"dataframe\">\n",
       "  <thead>\n",
       "    <tr style=\"text-align: right;\">\n",
       "      <th></th>\n",
       "      <th>date</th>\n",
       "      <th>user_id</th>\n",
       "    </tr>\n",
       "  </thead>\n",
       "  <tbody>\n",
       "    <tr>\n",
       "      <th>0</th>\n",
       "      <td>01.01.2023</td>\n",
       "      <td>101232</td>\n",
       "    </tr>\n",
       "    <tr>\n",
       "      <th>1</th>\n",
       "      <td>01.01.2023</td>\n",
       "      <td>101233</td>\n",
       "    </tr>\n",
       "    <tr>\n",
       "      <th>2</th>\n",
       "      <td>01.01.2023</td>\n",
       "      <td>101234</td>\n",
       "    </tr>\n",
       "    <tr>\n",
       "      <th>3</th>\n",
       "      <td>01.01.2023</td>\n",
       "      <td>101235</td>\n",
       "    </tr>\n",
       "    <tr>\n",
       "      <th>4</th>\n",
       "      <td>01.01.2023</td>\n",
       "      <td>101236</td>\n",
       "    </tr>\n",
       "    <tr>\n",
       "      <th>...</th>\n",
       "      <td>...</td>\n",
       "      <td>...</td>\n",
       "    </tr>\n",
       "    <tr>\n",
       "      <th>4848</th>\n",
       "      <td>28.02.2023</td>\n",
       "      <td>106080</td>\n",
       "    </tr>\n",
       "    <tr>\n",
       "      <th>4849</th>\n",
       "      <td>28.02.2023</td>\n",
       "      <td>106081</td>\n",
       "    </tr>\n",
       "    <tr>\n",
       "      <th>4850</th>\n",
       "      <td>28.02.2023</td>\n",
       "      <td>106082</td>\n",
       "    </tr>\n",
       "    <tr>\n",
       "      <th>4851</th>\n",
       "      <td>28.02.2023</td>\n",
       "      <td>106083</td>\n",
       "    </tr>\n",
       "    <tr>\n",
       "      <th>4852</th>\n",
       "      <td>28.02.2023</td>\n",
       "      <td>106084</td>\n",
       "    </tr>\n",
       "  </tbody>\n",
       "</table>\n",
       "<p>4853 rows × 2 columns</p>\n",
       "</div>"
      ],
      "text/plain": [
       "            date  user_id\n",
       "0     01.01.2023   101232\n",
       "1     01.01.2023   101233\n",
       "2     01.01.2023   101234\n",
       "3     01.01.2023   101235\n",
       "4     01.01.2023   101236\n",
       "...          ...      ...\n",
       "4848  28.02.2023   106080\n",
       "4849  28.02.2023   106081\n",
       "4850  28.02.2023   106082\n",
       "4851  28.02.2023   106083\n",
       "4852  28.02.2023   106084\n",
       "\n",
       "[4853 rows x 2 columns]"
      ]
     },
     "execution_count": 4,
     "metadata": {},
     "output_type": "execute_result"
    }
   ],
   "source": [
    "df_opened = pd.read_csv('opened.csv', sep=',')\n",
    "df_opened"
   ]
  },
  {
   "cell_type": "code",
   "execution_count": 5,
   "metadata": {},
   "outputs": [
    {
     "name": "stdout",
     "output_type": "stream",
     "text": [
      "10.0 %\n"
     ]
    }
   ],
   "source": [
    "# Задание 3  Выполните расчет ожидаемого эффекта по историческим данным.\n",
    "# Получаем данные о пользователях для расчета конверсии\n",
    "p_1 = df_opened['user_id'].count()\n",
    "p_2 = df_clicked['user_id'].count()\n",
    "\n",
    "cr_1 = p_2 / p_1 # Conversion Rate \n",
    "\n",
    "\n",
    "print((100*cr_1).round(), '%')\n",
    "\n"
   ]
  },
  {
   "cell_type": "code",
   "execution_count": 6,
   "metadata": {},
   "outputs": [],
   "source": [
    "# Задание 4 - Рассчитайте требуемый размер выборки для анализа данных эксперимента\n",
    "\n",
    "# калькулятор A/B-тестов: (https://www.evanmiller.org/ab-testing/sample-size.html)\n",
    "\n",
    "# Значения параметров statistical_power (80 %) и significance_level (5 %)\n",
    "# объем выборки одной группы 599 человек\n",
    "    \n",
    "# В тесте принимает участие 1 контрольная группа и 1 исследуемая группа,\n",
    "# Общее количество: 599 * 2 = 1198 человек\n",
    "\n",
    "# на период тестирования новой фичи мы увеличим количество рассылаемых писем в 3 раза\n",
    "# количество открывших эти письма пропорционально увеличится примерно до 240 в день. \n",
    "# Количество дней эксперимента: 1198 / 240 = 4,99 дней ~ 5 дней"
   ]
  },
  {
   "cell_type": "code",
   "execution_count": 7,
   "metadata": {},
   "outputs": [
    {
     "data": {
      "text/html": [
       "<div>\n",
       "<style scoped>\n",
       "    .dataframe tbody tr th:only-of-type {\n",
       "        vertical-align: middle;\n",
       "    }\n",
       "\n",
       "    .dataframe tbody tr th {\n",
       "        vertical-align: top;\n",
       "    }\n",
       "\n",
       "    .dataframe thead th {\n",
       "        text-align: right;\n",
       "    }\n",
       "</style>\n",
       "<table border=\"1\" class=\"dataframe\">\n",
       "  <thead>\n",
       "    <tr style=\"text-align: right;\">\n",
       "      <th></th>\n",
       "      <th>date</th>\n",
       "      <th>group</th>\n",
       "      <th>user_id</th>\n",
       "      <th>converted</th>\n",
       "    </tr>\n",
       "  </thead>\n",
       "  <tbody>\n",
       "    <tr>\n",
       "      <th>0</th>\n",
       "      <td>01.03.2023</td>\n",
       "      <td>control</td>\n",
       "      <td>106085</td>\n",
       "      <td>1</td>\n",
       "    </tr>\n",
       "    <tr>\n",
       "      <th>1</th>\n",
       "      <td>01.03.2023</td>\n",
       "      <td>control</td>\n",
       "      <td>106086</td>\n",
       "      <td>1</td>\n",
       "    </tr>\n",
       "    <tr>\n",
       "      <th>2</th>\n",
       "      <td>01.03.2023</td>\n",
       "      <td>control</td>\n",
       "      <td>106087</td>\n",
       "      <td>1</td>\n",
       "    </tr>\n",
       "    <tr>\n",
       "      <th>3</th>\n",
       "      <td>01.03.2023</td>\n",
       "      <td>control</td>\n",
       "      <td>106088</td>\n",
       "      <td>1</td>\n",
       "    </tr>\n",
       "    <tr>\n",
       "      <th>4</th>\n",
       "      <td>01.03.2023</td>\n",
       "      <td>control</td>\n",
       "      <td>106089</td>\n",
       "      <td>1</td>\n",
       "    </tr>\n",
       "    <tr>\n",
       "      <th>...</th>\n",
       "      <td>...</td>\n",
       "      <td>...</td>\n",
       "      <td>...</td>\n",
       "      <td>...</td>\n",
       "    </tr>\n",
       "    <tr>\n",
       "      <th>961</th>\n",
       "      <td>04.03.2023</td>\n",
       "      <td>treatment</td>\n",
       "      <td>107046</td>\n",
       "      <td>0</td>\n",
       "    </tr>\n",
       "    <tr>\n",
       "      <th>962</th>\n",
       "      <td>04.03.2023</td>\n",
       "      <td>treatment</td>\n",
       "      <td>107047</td>\n",
       "      <td>0</td>\n",
       "    </tr>\n",
       "    <tr>\n",
       "      <th>963</th>\n",
       "      <td>04.03.2023</td>\n",
       "      <td>treatment</td>\n",
       "      <td>107048</td>\n",
       "      <td>0</td>\n",
       "    </tr>\n",
       "    <tr>\n",
       "      <th>964</th>\n",
       "      <td>04.03.2023</td>\n",
       "      <td>treatment</td>\n",
       "      <td>107049</td>\n",
       "      <td>0</td>\n",
       "    </tr>\n",
       "    <tr>\n",
       "      <th>965</th>\n",
       "      <td>04.03.2023</td>\n",
       "      <td>treatment</td>\n",
       "      <td>107050</td>\n",
       "      <td>0</td>\n",
       "    </tr>\n",
       "  </tbody>\n",
       "</table>\n",
       "<p>966 rows × 4 columns</p>\n",
       "</div>"
      ],
      "text/plain": [
       "           date      group  user_id  converted\n",
       "0    01.03.2023    control   106085          1\n",
       "1    01.03.2023    control   106086          1\n",
       "2    01.03.2023    control   106087          1\n",
       "3    01.03.2023    control   106088          1\n",
       "4    01.03.2023    control   106089          1\n",
       "..          ...        ...      ...        ...\n",
       "961  04.03.2023  treatment   107046          0\n",
       "962  04.03.2023  treatment   107047          0\n",
       "963  04.03.2023  treatment   107048          0\n",
       "964  04.03.2023  treatment   107049          0\n",
       "965  04.03.2023  treatment   107050          0\n",
       "\n",
       "[966 rows x 4 columns]"
      ]
     },
     "execution_count": 7,
     "metadata": {},
     "output_type": "execute_result"
    }
   ],
   "source": [
    "df_four_day = pd.read_csv('4days.csv', sep=',')\n",
    "df_four_day"
   ]
  },
  {
   "cell_type": "code",
   "execution_count": 8,
   "metadata": {},
   "outputs": [
    {
     "name": "stdout",
     "output_type": "stream",
     "text": [
      "Количество повторов: 0\n"
     ]
    }
   ],
   "source": [
    "# Проверяем уникальность переходов\n",
    "session_counts = df_four_day['user_id'].value_counts(ascending = False)\n",
    "multi_users = session_counts[session_counts > 1].count()\n",
    "print(f'Количество повторов: {multi_users}')"
   ]
  },
  {
   "cell_type": "code",
   "execution_count": 9,
   "metadata": {},
   "outputs": [
    {
     "name": "stdout",
     "output_type": "stream",
     "text": [
      "603 363\n"
     ]
    }
   ],
   "source": [
    "# Найдем количество элементов в каждой группе\n",
    "control_count = df_four_day[df_four_day['group'] == 'control'].count()\n",
    "treatment_count = df_four_day[df_four_day['group'] == 'treatment'].count()\n",
    "cc = control_count['user_id'] # объем контрольной выборки\n",
    "tc = treatment_count['user_id'] # объем исследуемой выборки\n",
    "print(cc, tc)"
   ]
  },
  {
   "cell_type": "code",
   "execution_count": 10,
   "metadata": {},
   "outputs": [
    {
     "data": {
      "text/html": [
       "<div>\n",
       "<style scoped>\n",
       "    .dataframe tbody tr th:only-of-type {\n",
       "        vertical-align: middle;\n",
       "    }\n",
       "\n",
       "    .dataframe tbody tr th {\n",
       "        vertical-align: top;\n",
       "    }\n",
       "\n",
       "    .dataframe thead th {\n",
       "        text-align: right;\n",
       "    }\n",
       "</style>\n",
       "<table border=\"1\" class=\"dataframe\">\n",
       "  <thead>\n",
       "    <tr style=\"text-align: right;\">\n",
       "      <th></th>\n",
       "      <th>date</th>\n",
       "      <th>group</th>\n",
       "      <th>user_id</th>\n",
       "      <th>converted</th>\n",
       "    </tr>\n",
       "  </thead>\n",
       "  <tbody>\n",
       "    <tr>\n",
       "      <th>0</th>\n",
       "      <td>01.03.2023</td>\n",
       "      <td>control</td>\n",
       "      <td>106085</td>\n",
       "      <td>1</td>\n",
       "    </tr>\n",
       "    <tr>\n",
       "      <th>1</th>\n",
       "      <td>01.03.2023</td>\n",
       "      <td>control</td>\n",
       "      <td>106086</td>\n",
       "      <td>1</td>\n",
       "    </tr>\n",
       "    <tr>\n",
       "      <th>2</th>\n",
       "      <td>01.03.2023</td>\n",
       "      <td>control</td>\n",
       "      <td>106087</td>\n",
       "      <td>1</td>\n",
       "    </tr>\n",
       "    <tr>\n",
       "      <th>3</th>\n",
       "      <td>01.03.2023</td>\n",
       "      <td>control</td>\n",
       "      <td>106088</td>\n",
       "      <td>1</td>\n",
       "    </tr>\n",
       "    <tr>\n",
       "      <th>4</th>\n",
       "      <td>01.03.2023</td>\n",
       "      <td>control</td>\n",
       "      <td>106089</td>\n",
       "      <td>1</td>\n",
       "    </tr>\n",
       "    <tr>\n",
       "      <th>...</th>\n",
       "      <td>...</td>\n",
       "      <td>...</td>\n",
       "      <td>...</td>\n",
       "      <td>...</td>\n",
       "    </tr>\n",
       "    <tr>\n",
       "      <th>1200</th>\n",
       "      <td>05.03.2023</td>\n",
       "      <td>treatment</td>\n",
       "      <td>107285</td>\n",
       "      <td>0</td>\n",
       "    </tr>\n",
       "    <tr>\n",
       "      <th>1201</th>\n",
       "      <td>05.03.2023</td>\n",
       "      <td>treatment</td>\n",
       "      <td>107286</td>\n",
       "      <td>0</td>\n",
       "    </tr>\n",
       "    <tr>\n",
       "      <th>1202</th>\n",
       "      <td>05.03.2023</td>\n",
       "      <td>treatment</td>\n",
       "      <td>107287</td>\n",
       "      <td>0</td>\n",
       "    </tr>\n",
       "    <tr>\n",
       "      <th>1203</th>\n",
       "      <td>05.03.2023</td>\n",
       "      <td>treatment</td>\n",
       "      <td>107288</td>\n",
       "      <td>0</td>\n",
       "    </tr>\n",
       "    <tr>\n",
       "      <th>1204</th>\n",
       "      <td>05.03.2023</td>\n",
       "      <td>treatment</td>\n",
       "      <td>107289</td>\n",
       "      <td>0</td>\n",
       "    </tr>\n",
       "  </tbody>\n",
       "</table>\n",
       "<p>1205 rows × 4 columns</p>\n",
       "</div>"
      ],
      "text/plain": [
       "            date      group  user_id  converted\n",
       "0     01.03.2023    control   106085          1\n",
       "1     01.03.2023    control   106086          1\n",
       "2     01.03.2023    control   106087          1\n",
       "3     01.03.2023    control   106088          1\n",
       "4     01.03.2023    control   106089          1\n",
       "...          ...        ...      ...        ...\n",
       "1200  05.03.2023  treatment   107285          0\n",
       "1201  05.03.2023  treatment   107286          0\n",
       "1202  05.03.2023  treatment   107287          0\n",
       "1203  05.03.2023  treatment   107288          0\n",
       "1204  05.03.2023  treatment   107289          0\n",
       "\n",
       "[1205 rows x 4 columns]"
      ]
     },
     "execution_count": 10,
     "metadata": {},
     "output_type": "execute_result"
    }
   ],
   "source": [
    "df_result = pd.read_csv('results.csv', sep=',')\n",
    "df_result"
   ]
  },
  {
   "cell_type": "code",
   "execution_count": 11,
   "metadata": {},
   "outputs": [
    {
     "name": "stdout",
     "output_type": "stream",
     "text": [
      "Количество повторов: 0\n"
     ]
    }
   ],
   "source": [
    "# Проверяем уникальность переходов\n",
    "session_counts_1 = df_result['user_id'].value_counts(ascending = False)\n",
    "multi_users_1 = session_counts_1[session_counts_1 > 1].count()\n",
    "print(f'Количество повторов: {multi_users_1}')"
   ]
  },
  {
   "cell_type": "code",
   "execution_count": 12,
   "metadata": {},
   "outputs": [
    {
     "name": "stdout",
     "output_type": "stream",
     "text": [
      "613 592\n"
     ]
    }
   ],
   "source": [
    "# Kоличество элементов \n",
    "control_count_l = df_result[df_result['group'] == 'control'].count()\n",
    "treatment_count_l = df_result[df_result['group'] == 'treatment'].count()\n",
    "ccl = control_count_l['user_id'] # объем контрольной \n",
    "tcl = treatment_count_l['user_id'] # объем исследуемой \n",
    "print(ccl, tcl)"
   ]
  },
  {
   "cell_type": "code",
   "execution_count": 13,
   "metadata": {},
   "outputs": [],
   "source": [
    "# Отбираем необходимое число пользователей для каждой группы\n",
    "control_sample = df_result[df_result['group'] == 'control'].sample(n = cc, random_state = 0)\n",
    "treatment_sample = df_result[df_result['group'] == 'treatment'].sample(n = tc, random_state = 0)\n",
    "data_test = pd.concat([control_sample, treatment_sample], axis = 0)\n",
    "data_test.reset_index(drop = True, inplace = True)\n",
    "# В полученной контрольной выборке содержится достаточно человек, в исследуемой - нет"
   ]
  },
  {
   "cell_type": "code",
   "execution_count": 14,
   "metadata": {},
   "outputs": [
    {
     "name": "stdout",
     "output_type": "stream",
     "text": [
      "z statistic: -1.81\n",
      "p-value: 0.070\n",
      "ci 95% for control group: [0.076, 0.123]\n",
      "ci 95% for treatment group: [0.102, 0.173]\n"
     ]
    }
   ],
   "source": [
    "# Проверяем статистическую значимость\n",
    "from statsmodels.stats.proportion import proportions_ztest, proportion_confint\n",
    "\n",
    "control_results = data_test[data_test['group'] == 'control']['converted']\n",
    "treatment_results = data_test[data_test['group'] == 'treatment']['converted']\n",
    "\n",
    "n_con = control_results.count()\n",
    "n_treat = treatment_results.count()\n",
    "\n",
    "successes = [control_results.sum(), treatment_results.sum()]\n",
    "nobs = [n_con, n_treat]\n",
    "z_stat, pval = proportions_ztest(successes, nobs=nobs)\n",
    "\n",
    "(lower_con, lower_treat), (upper_con, upper_treat) = proportion_confint(successes, nobs=nobs, alpha=0.05)\n",
    "print(f'z statistic: {z_stat:.2f}')\n",
    "print(f'p-value: {pval:.3f}')\n",
    "print(f'ci 95% for control group: [{lower_con:.3f}, {upper_con:.3f}]')\n",
    "print(f'ci 95% for treatment group: [{lower_treat:.3f}, {upper_treat:.3f}]')"
   ]
  },
  {
   "cell_type": "code",
   "execution_count": 15,
   "metadata": {},
   "outputs": [],
   "source": [
    "# Получается, что p = 0.070 > 0.050 Поэтому мы не можем отклонить нулевую гипотезу, то есть наши группы статистически значимо не различаются. при достоверности 95%"
   ]
  },
  {
   "cell_type": "code",
   "execution_count": 21,
   "metadata": {},
   "outputs": [
    {
     "name": "stderr",
     "output_type": "stream",
     "text": [
      "C:\\Users\\shady\\AppData\\Local\\Temp\\ipykernel_24000\\3164184866.py:3: FutureWarning: \n",
      "\n",
      "The `ci` parameter is deprecated. Use `errorbar=('ci', False)` for the same effect.\n",
      "\n",
      "  sns.barplot(x=df_result['group'], y=df_result['converted'], ci=False)\n"
     ]
    },
    {
     "data": {
      "text/plain": [
       "Text(0, 0.5, 'Converted (proportion)')"
      ]
     },
     "execution_count": 21,
     "metadata": {},
     "output_type": "execute_result"
    },
    {
     "data": {
      "image/png": "[encoded data removed]",
      "text/plain": [
       "<Figure size 800x600 with 1 Axes>"
      ]
     },
     "metadata": {},
     "output_type": "display_data"
    }
   ],
   "source": [
    "plt.figure(figsize=(8,6))\n",
    "\n",
    "sns.barplot(x=df_result['group'], y=df_result['converted'], ci=False)\n",
    "\n",
    "plt.ylim(0, 0.17)\n",
    "plt.title('Conversion rate by group', pad=20)\n",
    "plt.xlabel('Group', labelpad=15)\n",
    "plt.ylabel('Converted (proportion)', labelpad=15)"
   ]
  },
  {
   "cell_type": "code",
   "execution_count": null,
   "metadata": {},
   "outputs": [],
   "source": []
  }
 ],
 "metadata": {
  "kernelspec": {
   "display_name": "Python 3",
   "language": "python",
   "name": "python3"
  },
  "language_info": {
   "codemirror_mode": {
    "name": "ipython",
    "version": 3
   },
   "file_extension": ".py",
   "mimetype": "text/x-python",
   "name": "python",
   "nbconvert_exporter": "python",
   "pygments_lexer": "ipython3",
   "version": "3.12.2"
  }
 },
 "nbformat": 4,
 "nbformat_minor": 2
}
